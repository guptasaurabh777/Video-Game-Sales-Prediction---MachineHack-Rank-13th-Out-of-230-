{
  "nbformat": 4,
  "nbformat_minor": 0,
  "metadata": {
    "colab": {
      "name": "Game_Sales FINAL_1.ipynb",
      "provenance": [],
      "authorship_tag": "ABX9TyO3vSjGh7WT3oJx+eXrpTpH"
    },
    "kernelspec": {
      "name": "python3",
      "display_name": "Python 3"
    }
  },
  "cells": [
    {
      "cell_type": "markdown",
      "metadata": {
        "id": "V6RU5o9CLYrD",
        "colab_type": "text"
      },
      "source": [
        "importing important libraries"
      ]
    },
    {
      "cell_type": "code",
      "metadata": {
        "id": "5hEEudLYKvZs",
        "colab_type": "code",
        "colab": {}
      },
      "source": [
        "import re\n",
        "import chardet  \n",
        "import warnings\n",
        "warnings.filterwarnings('ignore')\n",
        "import pandas as pd\n",
        "import numpy as np\n",
        "import matplotlib.pyplot as plt\n",
        "import seaborn as sns\n",
        "from sklearn.feature_extraction.text import CountVectorizer\n",
        "from sklearn.feature_extraction.text import TfidfVectorizer\n",
        "from sklearn.preprocessing import LabelEncoder\n",
        "from sklearn.model_selection import KFold, TimeSeriesSplit\n",
        "from sklearn.model_selection import train_test_split\n",
        "from sklearn.metrics import accuracy_score\n",
        "from sklearn import preprocessing \n",
        "from sklearn.model_selection import train_test_split\n",
        "#import lightgbm as lgb\n",
        "import xgboost as xgb\n",
        "import gc\n",
        "%matplotlib inline"
      ],
      "execution_count": null,
      "outputs": []
    },
    {
      "cell_type": "markdown",
      "metadata": {
        "id": "Ns_XXcoML2E1",
        "colab_type": "text"
      },
      "source": [
        "DATA EXPLORATION"
      ]
    },
    {
      "cell_type": "markdown",
      "metadata": {
        "id": "8Bp3Tb8aLdSk",
        "colab_type": "text"
      },
      "source": [
        "Importing Train and Test DataSets"
      ]
    },
    {
      "cell_type": "code",
      "metadata": {
        "id": "aJCkW0D-K-Np",
        "colab_type": "code",
        "colab": {}
      },
      "source": [
        "train = pd.read_csv('/saurabh/My Drive/Datasets/games/Train.csv')\n",
        "test = pd.read_csv('/saurabh/My Drive/Datasets/games/Test.csv')"
      ],
      "execution_count": null,
      "outputs": []
    },
    {
      "cell_type": "markdown",
      "metadata": {
        "id": "Od5ZH91LLigp",
        "colab_type": "text"
      },
      "source": [
        "Checking the data"
      ]
    },
    {
      "cell_type": "code",
      "metadata": {
        "id": "uMdMTP_2LE1l",
        "colab_type": "code",
        "colab": {
          "base_uri": "https://localhost:8080/",
          "height": 323
        },
        "outputId": "7e86938d-de1f-424f-ef76-5e166f1c64a0"
      },
      "source": [
        "print(train.head(5))\n",
        "print(train.shape)\n",
        "print(test.head(5))\n",
        "print(test.shape)"
      ],
      "execution_count": null,
      "outputs": [
        {
          "output_type": "stream",
          "text": [
            "     ID CONSOLE  YEAR  ... CRITICS_POINTS USER_POINTS SalesInMillions\n",
            "0  2860      ds  2008  ...       2.833333    0.303704        1.779257\n",
            "1   731     wii  2012  ...      13.200000    1.640000        0.215050\n",
            "2   495      pc  2019  ...       4.562500    0.006410        0.534402\n",
            "3  2641     ps2  2002  ...       4.181818    0.326923        1.383964\n",
            "4   811     ps3  2013  ...       2.259259    0.032579        0.082671\n",
            "\n",
            "[5 rows x 9 columns]\n",
            "(3505, 9)\n",
            "     ID CONSOLE  YEAR  ... RATING CRITICS_POINTS USER_POINTS\n",
            "0  4310     ps2  2008  ...      T       3.928571    0.482353\n",
            "1  4011     psp  2007  ...   E10+       5.538462    0.071795\n",
            "2  2185     ps2  2004  ...      T       3.034483    0.062044\n",
            "3  1644       x  2006  ...      E       2.913043    0.880000\n",
            "4   188     3ds  2011  ...   E10+       1.162162    0.183333\n",
            "\n",
            "[5 rows x 8 columns]\n",
            "(1503, 8)\n"
          ],
          "name": "stdout"
        }
      ]
    },
    {
      "cell_type": "markdown",
      "metadata": {
        "id": "FGKbxqP7LlFr",
        "colab_type": "text"
      },
      "source": [
        "Checking for null values"
      ]
    },
    {
      "cell_type": "code",
      "metadata": {
        "id": "dlGL_-dyLIOA",
        "colab_type": "code",
        "colab": {
          "base_uri": "https://localhost:8080/",
          "height": 374
        },
        "outputId": "786675ed-e7e5-4c11-ed19-2bffd84c2a26"
      },
      "source": [
        "print(\"Train\" )\n",
        "print(train.isnull().sum())\n",
        "print(\"Test\")\n",
        "print(test.isnull().sum())"
      ],
      "execution_count": null,
      "outputs": [
        {
          "output_type": "stream",
          "text": [
            "Train\n",
            "ID                 0\n",
            "CONSOLE            0\n",
            "YEAR               0\n",
            "CATEGORY           0\n",
            "PUBLISHER          0\n",
            "RATING             0\n",
            "CRITICS_POINTS     0\n",
            "USER_POINTS        0\n",
            "SalesInMillions    0\n",
            "dtype: int64\n",
            "Test\n",
            "ID                0\n",
            "CONSOLE           0\n",
            "YEAR              0\n",
            "CATEGORY          0\n",
            "PUBLISHER         0\n",
            "RATING            0\n",
            "CRITICS_POINTS    0\n",
            "USER_POINTS       0\n",
            "dtype: int64\n"
          ],
          "name": "stdout"
        }
      ]
    },
    {
      "cell_type": "code",
      "metadata": {
        "id": "MkslGxqALOVI",
        "colab_type": "code",
        "colab": {
          "base_uri": "https://localhost:8080/",
          "height": 34
        },
        "outputId": "259178c5-b43c-4fd6-8bcf-292d11f3dea4"
      },
      "source": [
        "\n",
        "# check for duplicate records... didn't remove the duplicate records as it was bringing score down\n",
        "train.duplicated().sum(), test.duplicated().sum()"
      ],
      "execution_count": null,
      "outputs": [
        {
          "output_type": "execute_result",
          "data": {
            "text/plain": [
              "(0, 0)"
            ]
          },
          "metadata": {
            "tags": []
          },
          "execution_count": 6
        }
      ]
    },
    {
      "cell_type": "code",
      "metadata": {
        "id": "-v6VoMVgL79K",
        "colab_type": "code",
        "colab": {
          "base_uri": "https://localhost:8080/",
          "height": 289
        },
        "outputId": "c3e02aef-0d3d-4d2d-9de9-1f21d4406b44"
      },
      "source": [
        "train.info()"
      ],
      "execution_count": null,
      "outputs": [
        {
          "output_type": "stream",
          "text": [
            "<class 'pandas.core.frame.DataFrame'>\n",
            "RangeIndex: 3505 entries, 0 to 3504\n",
            "Data columns (total 9 columns):\n",
            " #   Column           Non-Null Count  Dtype  \n",
            "---  ------           --------------  -----  \n",
            " 0   ID               3505 non-null   int64  \n",
            " 1   CONSOLE          3505 non-null   object \n",
            " 2   YEAR             3505 non-null   int64  \n",
            " 3   CATEGORY         3505 non-null   object \n",
            " 4   PUBLISHER        3505 non-null   object \n",
            " 5   RATING           3505 non-null   object \n",
            " 6   CRITICS_POINTS   3505 non-null   float64\n",
            " 7   USER_POINTS      3505 non-null   float64\n",
            " 8   SalesInMillions  3505 non-null   float64\n",
            "dtypes: float64(3), int64(2), object(4)\n",
            "memory usage: 246.6+ KB\n"
          ],
          "name": "stdout"
        }
      ]
    },
    {
      "cell_type": "code",
      "metadata": {
        "id": "notyP8OaMCum",
        "colab_type": "code",
        "colab": {
          "base_uri": "https://localhost:8080/",
          "height": 170
        },
        "outputId": "027981f1-0e87-4f6c-f6ab-c851c35adeee"
      },
      "source": [
        "for i in train.columns:\n",
        "    print(\"Unique values in\", i, train[i].nunique())"
      ],
      "execution_count": null,
      "outputs": [
        {
          "output_type": "stream",
          "text": [
            "Unique values in ID 2653\n",
            "Unique values in CONSOLE 17\n",
            "Unique values in YEAR 23\n",
            "Unique values in CATEGORY 12\n",
            "Unique values in PUBLISHER 204\n",
            "Unique values in RATING 6\n",
            "Unique values in CRITICS_POINTS 1683\n",
            "Unique values in USER_POINTS 2153\n",
            "Unique values in SalesInMillions 3505\n"
          ],
          "name": "stdout"
        }
      ]
    },
    {
      "cell_type": "code",
      "metadata": {
        "id": "xkIJpyn8MLZt",
        "colab_type": "code",
        "colab": {
          "base_uri": "https://localhost:8080/",
          "height": 153
        },
        "outputId": "c6b4ec61-b484-4316-cba0-ed91548e7c3b"
      },
      "source": [
        "\n",
        "for i in test.columns:\n",
        "    print(\"Unique values in\", i, test[i].nunique())"
      ],
      "execution_count": null,
      "outputs": [
        {
          "output_type": "stream",
          "text": [
            "Unique values in ID 1334\n",
            "Unique values in CONSOLE 17\n",
            "Unique values in YEAR 25\n",
            "Unique values in CATEGORY 12\n",
            "Unique values in PUBLISHER 136\n",
            "Unique values in RATING 5\n",
            "Unique values in CRITICS_POINTS 995\n",
            "Unique values in USER_POINTS 1110\n"
          ],
          "name": "stdout"
        }
      ]
    },
    {
      "cell_type": "code",
      "metadata": {
        "id": "T4m0FqWTMmx8",
        "colab_type": "code",
        "colab": {
          "base_uri": "https://localhost:8080/",
          "height": 297
        },
        "outputId": "cebfe41b-4625-4153-cfcb-e0e0531c5ace"
      },
      "source": [
        "train.describe()"
      ],
      "execution_count": null,
      "outputs": [
        {
          "output_type": "execute_result",
          "data": {
            "text/html": [
              "<div>\n",
              "<style scoped>\n",
              "    .dataframe tbody tr th:only-of-type {\n",
              "        vertical-align: middle;\n",
              "    }\n",
              "\n",
              "    .dataframe tbody tr th {\n",
              "        vertical-align: top;\n",
              "    }\n",
              "\n",
              "    .dataframe thead th {\n",
              "        text-align: right;\n",
              "    }\n",
              "</style>\n",
              "<table border=\"1\" class=\"dataframe\">\n",
              "  <thead>\n",
              "    <tr style=\"text-align: right;\">\n",
              "      <th></th>\n",
              "      <th>ID</th>\n",
              "      <th>YEAR</th>\n",
              "      <th>CRITICS_POINTS</th>\n",
              "      <th>USER_POINTS</th>\n",
              "      <th>SalesInMillions</th>\n",
              "    </tr>\n",
              "  </thead>\n",
              "  <tbody>\n",
              "    <tr>\n",
              "      <th>count</th>\n",
              "      <td>3505.000000</td>\n",
              "      <td>3505.000000</td>\n",
              "      <td>3505.000000</td>\n",
              "      <td>3505.000000</td>\n",
              "      <td>3505.000000</td>\n",
              "    </tr>\n",
              "    <tr>\n",
              "      <th>mean</th>\n",
              "      <td>2281.645364</td>\n",
              "      <td>2008.990870</td>\n",
              "      <td>3.791487</td>\n",
              "      <td>0.405933</td>\n",
              "      <td>2.147610</td>\n",
              "    </tr>\n",
              "    <tr>\n",
              "      <th>std</th>\n",
              "      <td>1286.985733</td>\n",
              "      <td>4.304734</td>\n",
              "      <td>3.141988</td>\n",
              "      <td>0.455560</td>\n",
              "      <td>2.075260</td>\n",
              "    </tr>\n",
              "    <tr>\n",
              "      <th>min</th>\n",
              "      <td>1.000000</td>\n",
              "      <td>1997.000000</td>\n",
              "      <td>0.568966</td>\n",
              "      <td>0.000341</td>\n",
              "      <td>0.001524</td>\n",
              "    </tr>\n",
              "    <tr>\n",
              "      <th>25%</th>\n",
              "      <td>1220.000000</td>\n",
              "      <td>2006.000000</td>\n",
              "      <td>1.738095</td>\n",
              "      <td>0.066038</td>\n",
              "      <td>0.965600</td>\n",
              "    </tr>\n",
              "    <tr>\n",
              "      <th>50%</th>\n",
              "      <td>2262.000000</td>\n",
              "      <td>2009.000000</td>\n",
              "      <td>2.766667</td>\n",
              "      <td>0.233333</td>\n",
              "      <td>1.865988</td>\n",
              "    </tr>\n",
              "    <tr>\n",
              "      <th>75%</th>\n",
              "      <td>3404.000000</td>\n",
              "      <td>2012.000000</td>\n",
              "      <td>4.625000</td>\n",
              "      <td>0.600000</td>\n",
              "      <td>2.791978</td>\n",
              "    </tr>\n",
              "    <tr>\n",
              "      <th>max</th>\n",
              "      <td>4523.000000</td>\n",
              "      <td>2019.000000</td>\n",
              "      <td>23.250000</td>\n",
              "      <td>2.325000</td>\n",
              "      <td>34.722026</td>\n",
              "    </tr>\n",
              "  </tbody>\n",
              "</table>\n",
              "</div>"
            ],
            "text/plain": [
              "                ID         YEAR  CRITICS_POINTS  USER_POINTS  SalesInMillions\n",
              "count  3505.000000  3505.000000     3505.000000  3505.000000      3505.000000\n",
              "mean   2281.645364  2008.990870        3.791487     0.405933         2.147610\n",
              "std    1286.985733     4.304734        3.141988     0.455560         2.075260\n",
              "min       1.000000  1997.000000        0.568966     0.000341         0.001524\n",
              "25%    1220.000000  2006.000000        1.738095     0.066038         0.965600\n",
              "50%    2262.000000  2009.000000        2.766667     0.233333         1.865988\n",
              "75%    3404.000000  2012.000000        4.625000     0.600000         2.791978\n",
              "max    4523.000000  2019.000000       23.250000     2.325000        34.722026"
            ]
          },
          "metadata": {
            "tags": []
          },
          "execution_count": 10
        }
      ]
    },
    {
      "cell_type": "markdown",
      "metadata": {
        "id": "P3ybf98w62sJ",
        "colab_type": "text"
      },
      "source": [
        "\n",
        "Checking Distribution Of CRITICS_POINTS\n"
      ]
    },
    {
      "cell_type": "code",
      "metadata": {
        "id": "2THBRZwf6Hlm",
        "colab_type": "code",
        "colab": {
          "base_uri": "https://localhost:8080/",
          "height": 439
        },
        "outputId": "30b38a97-07c8-47b7-d4d0-d20e4b6ff5a1"
      },
      "source": [
        "\n",
        "from scipy import stats\n",
        "from scipy.stats import norm, skew #for some statistics\n",
        "# Plot histogram and probability\n",
        "fig = plt.figure(figsize=(15,5))\n",
        "plt.subplot(1,2,1)\n",
        "sns.distplot(train['CRITICS_POINTS'] , fit=norm);\n",
        "(mu, sigma) = norm.fit(train['CRITICS_POINTS'])\n",
        "print( '\\n mu = {:.2f} and sigma = {:.2f}\\n'.format(mu, sigma))\n",
        "plt.legend(['Normal dist. ($\\mu=$ {:.2f} and $\\sigma=$ {:.2f} )'.format(mu, sigma)],\n",
        "            loc='best')\n",
        "plt.ylabel('Frequency')\n",
        "plt.title('Critics Point  distribution')\n",
        "plt.subplot(1,2,2)\n",
        "res = stats.probplot(train['CRITICS_POINTS'], plot=plt)\n",
        "plt.suptitle('Before transformation')"
      ],
      "execution_count": null,
      "outputs": [
        {
          "output_type": "stream",
          "text": [
            "\n",
            " mu = 3.79 and sigma = 3.14\n",
            "\n"
          ],
          "name": "stdout"
        },
        {
          "output_type": "execute_result",
          "data": {
            "text/plain": [
              "Text(0.5, 0.98, 'Before transformation')"
            ]
          },
          "metadata": {
            "tags": []
          },
          "execution_count": 11
        },
        {
          "output_type": "display_data",
          "data": {
            "image/png": "[encoded data removed]",
            "text/plain": [
              "<Figure size 1080x360 with 2 Axes>"
            ]
          },
          "metadata": {
            "tags": [],
            "needs_background": "light"
          }
        }
      ]
    },
    {
      "cell_type": "markdown",
      "metadata": {
        "id": "3QjnPS2s7ESQ",
        "colab_type": "text"
      },
      "source": [
        "Checking Distribution Of USER_POINTS"
      ]
    },
    {
      "cell_type": "code",
      "metadata": {
        "id": "9HDrFf8u7Imj",
        "colab_type": "code",
        "colab": {
          "base_uri": "https://localhost:8080/",
          "height": 439
        },
        "outputId": "92301755-c15c-401f-86d5-46e7e1e00a70"
      },
      "source": [
        "from scipy import stats\n",
        "from scipy.stats import norm, skew #for some statistics\n",
        "# Plot histogram and probability\n",
        "fig = plt.figure(figsize=(15,5))\n",
        "plt.subplot(1,2,1)\n",
        "sns.distplot(train['USER_POINTS'] , fit=norm);\n",
        "(mu, sigma) = norm.fit(train['USER_POINTS'])\n",
        "print( '\\n mu = {:.2f} and sigma = {:.2f}\\n'.format(mu, sigma))\n",
        "plt.legend(['Normal dist. ($\\mu=$ {:.2f} and $\\sigma=$ {:.2f} )'.format(mu, sigma)],\n",
        "            loc='best')\n",
        "plt.ylabel('Frequency')\n",
        "plt.title('USER POINTS distribution')\n",
        "plt.subplot(1,2,2)\n",
        "res = stats.probplot(train['USER_POINTS'], plot=plt)\n",
        "plt.suptitle('Before transformation')"
      ],
      "execution_count": null,
      "outputs": [
        {
          "output_type": "stream",
          "text": [
            "\n",
            " mu = 0.41 and sigma = 0.46\n",
            "\n"
          ],
          "name": "stdout"
        },
        {
          "output_type": "execute_result",
          "data": {
            "text/plain": [
              "Text(0.5, 0.98, 'Before transformation')"
            ]
          },
          "metadata": {
            "tags": []
          },
          "execution_count": 12
        },
        {
          "output_type": "display_data",
          "data": {
            "image/png": "[encoded data removed]",
            "text/plain": [
              "<Figure size 1080x360 with 2 Axes>"
            ]
          },
          "metadata": {
            "tags": [],
            "needs_background": "light"
          }
        }
      ]
    },
    {
      "cell_type": "code",
      "metadata": {
        "id": "X9w2YhOt7fe_",
        "colab_type": "code",
        "colab": {
          "base_uri": "https://localhost:8080/",
          "height": 438
        },
        "outputId": "791b3b2e-2a1a-4612-9aea-604506a96655"
      },
      "source": [
        "from scipy import stats\n",
        "from scipy.stats import norm, skew #for some statistics\n",
        "# Plot histogram and probability\n",
        "fig = plt.figure(figsize=(15,5))\n",
        "plt.subplot(1,2,1)\n",
        "sns.distplot(train['SalesInMillions'] , fit=norm);\n",
        "(mu, sigma) = norm.fit(train['SalesInMillions'])\n",
        "print( '\\n mu = {:.2f} and sigma = {:.2f}\\n'.format(mu, sigma))\n",
        "plt.legend(['Normal dist. ($\\mu=$ {:.2f} and $\\sigma=$ {:.2f} )'.format(mu, sigma)],\n",
        "            loc='best')\n",
        "plt.ylabel('Frequency')\n",
        "plt.title('Sales in Millions distribution')\n",
        "plt.subplot(1,2,2)\n",
        "res = stats.probplot(train['SalesInMillions'], plot=plt)\n",
        "plt.suptitle('Before transformation')"
      ],
      "execution_count": null,
      "outputs": [
        {
          "output_type": "stream",
          "text": [
            "\n",
            " mu = 2.15 and sigma = 2.07\n",
            "\n"
          ],
          "name": "stdout"
        },
        {
          "output_type": "execute_result",
          "data": {
            "text/plain": [
              "Text(0.5, 0.98, 'Before transformation')"
            ]
          },
          "metadata": {
            "tags": []
          },
          "execution_count": 13
        },
        {
          "output_type": "display_data",
          "data": {
            "image/png": "[encoded data removed]",
            "text/plain": [
              "<Figure size 1080x360 with 2 Axes>"
            ]
          },
          "metadata": {
            "tags": [],
            "needs_background": "light"
          }
        }
      ]
    },
    {
      "cell_type": "markdown",
      "metadata": {
        "id": "gx9ByGd9RWuB",
        "colab_type": "text"
      },
      "source": [
        "DATA PREPROCESSING"
      ]
    },
    {
      "cell_type": "code",
      "metadata": {
        "id": "TxlJg-kPP7uf",
        "colab_type": "code",
        "colab": {}
      },
      "source": [
        "# merge train and test\n",
        "df = train.append(test,ignore_index=True)"
      ],
      "execution_count": null,
      "outputs": []
    },
    {
      "cell_type": "code",
      "metadata": {
        "id": "s-wwklRVRcY6",
        "colab_type": "code",
        "colab": {
          "base_uri": "https://localhost:8080/",
          "height": 34
        },
        "outputId": "5ea7fd51-defe-4c24-bb63-fcdfa0a57e79"
      },
      "source": [
        "df.shape"
      ],
      "execution_count": null,
      "outputs": [
        {
          "output_type": "execute_result",
          "data": {
            "text/plain": [
              "(5008, 9)"
            ]
          },
          "metadata": {
            "tags": []
          },
          "execution_count": 15
        }
      ]
    },
    {
      "cell_type": "code",
      "metadata": {
        "id": "9lgnNRXxJDfM",
        "colab_type": "code",
        "colab": {}
      },
      "source": [
        "df = pd.get_dummies(df, columns=['RATING'], drop_first=True)"
      ],
      "execution_count": null,
      "outputs": []
    },
    {
      "cell_type": "code",
      "metadata": {
        "id": "CQwgWdXNJDtQ",
        "colab_type": "code",
        "colab": {
          "base_uri": "https://localhost:8080/",
          "height": 204
        },
        "outputId": "b5be465a-9868-470e-db20-18ee3de42f25"
      },
      "source": [
        "\n",
        "df.head(5)"
      ],
      "execution_count": null,
      "outputs": [
        {
          "output_type": "execute_result",
          "data": {
            "text/html": [
              "<div>\n",
              "<style scoped>\n",
              "    .dataframe tbody tr th:only-of-type {\n",
              "        vertical-align: middle;\n",
              "    }\n",
              "\n",
              "    .dataframe tbody tr th {\n",
              "        vertical-align: top;\n",
              "    }\n",
              "\n",
              "    .dataframe thead th {\n",
              "        text-align: right;\n",
              "    }\n",
              "</style>\n",
              "<table border=\"1\" class=\"dataframe\">\n",
              "  <thead>\n",
              "    <tr style=\"text-align: right;\">\n",
              "      <th></th>\n",
              "      <th>ID</th>\n",
              "      <th>CONSOLE</th>\n",
              "      <th>YEAR</th>\n",
              "      <th>CATEGORY</th>\n",
              "      <th>PUBLISHER</th>\n",
              "      <th>CRITICS_POINTS</th>\n",
              "      <th>USER_POINTS</th>\n",
              "      <th>SalesInMillions</th>\n",
              "      <th>RATING_E</th>\n",
              "      <th>RATING_E10+</th>\n",
              "      <th>RATING_K-A</th>\n",
              "      <th>RATING_M</th>\n",
              "      <th>RATING_RP</th>\n",
              "      <th>RATING_T</th>\n",
              "    </tr>\n",
              "  </thead>\n",
              "  <tbody>\n",
              "    <tr>\n",
              "      <th>0</th>\n",
              "      <td>2860</td>\n",
              "      <td>ds</td>\n",
              "      <td>2008</td>\n",
              "      <td>role-playing</td>\n",
              "      <td>Nintendo</td>\n",
              "      <td>2.833333</td>\n",
              "      <td>0.303704</td>\n",
              "      <td>1.779257</td>\n",
              "      <td>1</td>\n",
              "      <td>0</td>\n",
              "      <td>0</td>\n",
              "      <td>0</td>\n",
              "      <td>0</td>\n",
              "      <td>0</td>\n",
              "    </tr>\n",
              "    <tr>\n",
              "      <th>1</th>\n",
              "      <td>731</td>\n",
              "      <td>wii</td>\n",
              "      <td>2012</td>\n",
              "      <td>simulation</td>\n",
              "      <td>Konami Digital Entertainment</td>\n",
              "      <td>13.200000</td>\n",
              "      <td>1.640000</td>\n",
              "      <td>0.215050</td>\n",
              "      <td>0</td>\n",
              "      <td>1</td>\n",
              "      <td>0</td>\n",
              "      <td>0</td>\n",
              "      <td>0</td>\n",
              "      <td>0</td>\n",
              "    </tr>\n",
              "    <tr>\n",
              "      <th>2</th>\n",
              "      <td>495</td>\n",
              "      <td>pc</td>\n",
              "      <td>2019</td>\n",
              "      <td>shooter</td>\n",
              "      <td>Activision</td>\n",
              "      <td>4.562500</td>\n",
              "      <td>0.006410</td>\n",
              "      <td>0.534402</td>\n",
              "      <td>0</td>\n",
              "      <td>0</td>\n",
              "      <td>0</td>\n",
              "      <td>1</td>\n",
              "      <td>0</td>\n",
              "      <td>0</td>\n",
              "    </tr>\n",
              "    <tr>\n",
              "      <th>3</th>\n",
              "      <td>2641</td>\n",
              "      <td>ps2</td>\n",
              "      <td>2002</td>\n",
              "      <td>sports</td>\n",
              "      <td>Electronic Arts</td>\n",
              "      <td>4.181818</td>\n",
              "      <td>0.326923</td>\n",
              "      <td>1.383964</td>\n",
              "      <td>1</td>\n",
              "      <td>0</td>\n",
              "      <td>0</td>\n",
              "      <td>0</td>\n",
              "      <td>0</td>\n",
              "      <td>0</td>\n",
              "    </tr>\n",
              "    <tr>\n",
              "      <th>4</th>\n",
              "      <td>811</td>\n",
              "      <td>ps3</td>\n",
              "      <td>2013</td>\n",
              "      <td>action</td>\n",
              "      <td>Activision</td>\n",
              "      <td>2.259259</td>\n",
              "      <td>0.032579</td>\n",
              "      <td>0.082671</td>\n",
              "      <td>0</td>\n",
              "      <td>0</td>\n",
              "      <td>0</td>\n",
              "      <td>1</td>\n",
              "      <td>0</td>\n",
              "      <td>0</td>\n",
              "    </tr>\n",
              "  </tbody>\n",
              "</table>\n",
              "</div>"
            ],
            "text/plain": [
              "     ID CONSOLE  YEAR      CATEGORY  ... RATING_K-A  RATING_M  RATING_RP  RATING_T\n",
              "0  2860      ds  2008  role-playing  ...          0         0          0         0\n",
              "1   731     wii  2012    simulation  ...          0         0          0         0\n",
              "2   495      pc  2019       shooter  ...          0         1          0         0\n",
              "3  2641     ps2  2002        sports  ...          0         0          0         0\n",
              "4   811     ps3  2013        action  ...          0         1          0         0\n",
              "\n",
              "[5 rows x 14 columns]"
            ]
          },
          "metadata": {
            "tags": []
          },
          "execution_count": 17
        }
      ]
    },
    {
      "cell_type": "code",
      "metadata": {
        "id": "TtItvbBzJD1M",
        "colab_type": "code",
        "colab": {}
      },
      "source": [
        "df = pd.get_dummies(df, columns=['CATEGORY'], drop_first=True)"
      ],
      "execution_count": null,
      "outputs": []
    },
    {
      "cell_type": "code",
      "metadata": {
        "id": "hqoVP4PmJD5n",
        "colab_type": "code",
        "colab": {
          "base_uri": "https://localhost:8080/",
          "height": 292
        },
        "outputId": "fd71fa95-ae62-40d8-a158-a6f26789a930"
      },
      "source": [
        "df.head(5)"
      ],
      "execution_count": null,
      "outputs": [
        {
          "output_type": "execute_result",
          "data": {
            "text/html": [
              "<div>\n",
              "<style scoped>\n",
              "    .dataframe tbody tr th:only-of-type {\n",
              "        vertical-align: middle;\n",
              "    }\n",
              "\n",
              "    .dataframe tbody tr th {\n",
              "        vertical-align: top;\n",
              "    }\n",
              "\n",
              "    .dataframe thead th {\n",
              "        text-align: right;\n",
              "    }\n",
              "</style>\n",
              "<table border=\"1\" class=\"dataframe\">\n",
              "  <thead>\n",
              "    <tr style=\"text-align: right;\">\n",
              "      <th></th>\n",
              "      <th>ID</th>\n",
              "      <th>CONSOLE</th>\n",
              "      <th>YEAR</th>\n",
              "      <th>PUBLISHER</th>\n",
              "      <th>CRITICS_POINTS</th>\n",
              "      <th>USER_POINTS</th>\n",
              "      <th>SalesInMillions</th>\n",
              "      <th>RATING_E</th>\n",
              "      <th>RATING_E10+</th>\n",
              "      <th>RATING_K-A</th>\n",
              "      <th>RATING_M</th>\n",
              "      <th>RATING_RP</th>\n",
              "      <th>RATING_T</th>\n",
              "      <th>CATEGORY_adventure</th>\n",
              "      <th>CATEGORY_fighting</th>\n",
              "      <th>CATEGORY_misc</th>\n",
              "      <th>CATEGORY_platform</th>\n",
              "      <th>CATEGORY_puzzle</th>\n",
              "      <th>CATEGORY_racing</th>\n",
              "      <th>CATEGORY_role-playing</th>\n",
              "      <th>CATEGORY_shooter</th>\n",
              "      <th>CATEGORY_simulation</th>\n",
              "      <th>CATEGORY_sports</th>\n",
              "      <th>CATEGORY_strategy</th>\n",
              "    </tr>\n",
              "  </thead>\n",
              "  <tbody>\n",
              "    <tr>\n",
              "      <th>0</th>\n",
              "      <td>2860</td>\n",
              "      <td>ds</td>\n",
              "      <td>2008</td>\n",
              "      <td>Nintendo</td>\n",
              "      <td>2.833333</td>\n",
              "      <td>0.303704</td>\n",
              "      <td>1.779257</td>\n",
              "      <td>1</td>\n",
              "      <td>0</td>\n",
              "      <td>0</td>\n",
              "      <td>0</td>\n",
              "      <td>0</td>\n",
              "      <td>0</td>\n",
              "      <td>0</td>\n",
              "      <td>0</td>\n",
              "      <td>0</td>\n",
              "      <td>0</td>\n",
              "      <td>0</td>\n",
              "      <td>0</td>\n",
              "      <td>1</td>\n",
              "      <td>0</td>\n",
              "      <td>0</td>\n",
              "      <td>0</td>\n",
              "      <td>0</td>\n",
              "    </tr>\n",
              "    <tr>\n",
              "      <th>1</th>\n",
              "      <td>731</td>\n",
              "      <td>wii</td>\n",
              "      <td>2012</td>\n",
              "      <td>Konami Digital Entertainment</td>\n",
              "      <td>13.200000</td>\n",
              "      <td>1.640000</td>\n",
              "      <td>0.215050</td>\n",
              "      <td>0</td>\n",
              "      <td>1</td>\n",
              "      <td>0</td>\n",
              "      <td>0</td>\n",
              "      <td>0</td>\n",
              "      <td>0</td>\n",
              "      <td>0</td>\n",
              "      <td>0</td>\n",
              "      <td>0</td>\n",
              "      <td>0</td>\n",
              "      <td>0</td>\n",
              "      <td>0</td>\n",
              "      <td>0</td>\n",
              "      <td>0</td>\n",
              "      <td>1</td>\n",
              "      <td>0</td>\n",
              "      <td>0</td>\n",
              "    </tr>\n",
              "    <tr>\n",
              "      <th>2</th>\n",
              "      <td>495</td>\n",
              "      <td>pc</td>\n",
              "      <td>2019</td>\n",
              "      <td>Activision</td>\n",
              "      <td>4.562500</td>\n",
              "      <td>0.006410</td>\n",
              "      <td>0.534402</td>\n",
              "      <td>0</td>\n",
              "      <td>0</td>\n",
              "      <td>0</td>\n",
              "      <td>1</td>\n",
              "      <td>0</td>\n",
              "      <td>0</td>\n",
              "      <td>0</td>\n",
              "      <td>0</td>\n",
              "      <td>0</td>\n",
              "      <td>0</td>\n",
              "      <td>0</td>\n",
              "      <td>0</td>\n",
              "      <td>0</td>\n",
              "      <td>1</td>\n",
              "      <td>0</td>\n",
              "      <td>0</td>\n",
              "      <td>0</td>\n",
              "    </tr>\n",
              "    <tr>\n",
              "      <th>3</th>\n",
              "      <td>2641</td>\n",
              "      <td>ps2</td>\n",
              "      <td>2002</td>\n",
              "      <td>Electronic Arts</td>\n",
              "      <td>4.181818</td>\n",
              "      <td>0.326923</td>\n",
              "      <td>1.383964</td>\n",
              "      <td>1</td>\n",
              "      <td>0</td>\n",
              "      <td>0</td>\n",
              "      <td>0</td>\n",
              "      <td>0</td>\n",
              "      <td>0</td>\n",
              "      <td>0</td>\n",
              "      <td>0</td>\n",
              "      <td>0</td>\n",
              "      <td>0</td>\n",
              "      <td>0</td>\n",
              "      <td>0</td>\n",
              "      <td>0</td>\n",
              "      <td>0</td>\n",
              "      <td>0</td>\n",
              "      <td>1</td>\n",
              "      <td>0</td>\n",
              "    </tr>\n",
              "    <tr>\n",
              "      <th>4</th>\n",
              "      <td>811</td>\n",
              "      <td>ps3</td>\n",
              "      <td>2013</td>\n",
              "      <td>Activision</td>\n",
              "      <td>2.259259</td>\n",
              "      <td>0.032579</td>\n",
              "      <td>0.082671</td>\n",
              "      <td>0</td>\n",
              "      <td>0</td>\n",
              "      <td>0</td>\n",
              "      <td>1</td>\n",
              "      <td>0</td>\n",
              "      <td>0</td>\n",
              "      <td>0</td>\n",
              "      <td>0</td>\n",
              "      <td>0</td>\n",
              "      <td>0</td>\n",
              "      <td>0</td>\n",
              "      <td>0</td>\n",
              "      <td>0</td>\n",
              "      <td>0</td>\n",
              "      <td>0</td>\n",
              "      <td>0</td>\n",
              "      <td>0</td>\n",
              "    </tr>\n",
              "  </tbody>\n",
              "</table>\n",
              "</div>"
            ],
            "text/plain": [
              "     ID CONSOLE  YEAR  ... CATEGORY_simulation  CATEGORY_sports  CATEGORY_strategy\n",
              "0  2860      ds  2008  ...                   0                0                  0\n",
              "1   731     wii  2012  ...                   1                0                  0\n",
              "2   495      pc  2019  ...                   0                0                  0\n",
              "3  2641     ps2  2002  ...                   0                1                  0\n",
              "4   811     ps3  2013  ...                   0                0                  0\n",
              "\n",
              "[5 rows x 24 columns]"
            ]
          },
          "metadata": {
            "tags": []
          },
          "execution_count": 19
        }
      ]
    },
    {
      "cell_type": "code",
      "metadata": {
        "id": "jvWC4RhvJD92",
        "colab_type": "code",
        "colab": {}
      },
      "source": [
        "df = pd.get_dummies(df, columns=['CONSOLE'], drop_first=True)"
      ],
      "execution_count": null,
      "outputs": []
    },
    {
      "cell_type": "code",
      "metadata": {
        "id": "Im2ry1UTK-yk",
        "colab_type": "code",
        "colab": {}
      },
      "source": [
        "df = pd.get_dummies(df, columns=['PUBLISHER'], drop_first=True)"
      ],
      "execution_count": null,
      "outputs": []
    },
    {
      "cell_type": "code",
      "metadata": {
        "id": "ExLJsxfoJEPM",
        "colab_type": "code",
        "colab": {}
      },
      "source": [
        "#df_title.shape"
      ],
      "execution_count": null,
      "outputs": []
    },
    {
      "cell_type": "code",
      "metadata": {
        "id": "UeKM-PaSJHSn",
        "colab_type": "code",
        "colab": {}
      },
      "source": [
        "#df = pd.concat([df, df_title], axis=1) "
      ],
      "execution_count": null,
      "outputs": []
    },
    {
      "cell_type": "code",
      "metadata": {
        "id": "mOdfN8a2JHdH",
        "colab_type": "code",
        "colab": {}
      },
      "source": [
        "#df.drop(['PUBLISHER'], axis=1, inplace=True)"
      ],
      "execution_count": null,
      "outputs": []
    },
    {
      "cell_type": "code",
      "metadata": {
        "id": "phhIDvZWoRnE",
        "colab_type": "code",
        "colab": {}
      },
      "source": [
        "df['CRITICS_POINTS'] = np.log1p(df['CRITICS_POINTS'])\n",
        "df['USER_POINTS'] = np.log1p(df['USER_POINTS'])\n",
        "#df['SalesInMillions'] = np.log1p(df['SalesInMillions'])\n"
      ],
      "execution_count": null,
      "outputs": []
    },
    {
      "cell_type": "code",
      "metadata": {
        "id": "oIDcOgSLoRyK",
        "colab_type": "code",
        "colab": {
          "base_uri": "https://localhost:8080/",
          "height": 34
        },
        "outputId": "c4b43955-984a-4722-b349-a16a10f5264b"
      },
      "source": [
        "df.shape"
      ],
      "execution_count": null,
      "outputs": [
        {
          "output_type": "execute_result",
          "data": {
            "text/plain": [
              "(5008, 270)"
            ]
          },
          "metadata": {
            "tags": []
          },
          "execution_count": 23
        }
      ]
    },
    {
      "cell_type": "code",
      "metadata": {
        "id": "sKuIK7-TUYcb",
        "colab_type": "code",
        "colab": {}
      },
      "source": [
        "train_df = df[df['SalesInMillions'].isnull()!=True]\n",
        "test_df = df[df['SalesInMillions'].isnull()==True]\n",
        "test_df.drop('SalesInMillions', axis=1, inplace=True)"
      ],
      "execution_count": null,
      "outputs": []
    },
    {
      "cell_type": "markdown",
      "metadata": {
        "id": "OEBAVLPBU7yo",
        "colab_type": "text"
      },
      "source": [
        "TRAIN TEST SPLIT"
      ]
    },
    {
      "cell_type": "code",
      "metadata": {
        "id": "r_pARiHaU9ck",
        "colab_type": "code",
        "colab": {}
      },
      "source": [
        "X = train_df.drop(labels=['SalesInMillions'], axis=1)\n",
        "y = train_df['SalesInMillions'].values\n",
        "\n",
        "from sklearn.model_selection import train_test_split\n",
        "X_train, X_cv, y_train, y_cv = train_test_split(X, y, test_size=0.25, random_state=1)"
      ],
      "execution_count": null,
      "outputs": []
    },
    {
      "cell_type": "code",
      "metadata": {
        "id": "Hg1OiLpzVFVZ",
        "colab_type": "code",
        "colab": {
          "base_uri": "https://localhost:8080/",
          "height": 34
        },
        "outputId": "eae04b63-74bd-4349-f1b0-d8f324f069cd"
      },
      "source": [
        "X_train.shape, y_train.shape, X_cv.shape, y_cv.shape"
      ],
      "execution_count": null,
      "outputs": [
        {
          "output_type": "execute_result",
          "data": {
            "text/plain": [
              "((2628, 269), (2628,), (877, 269), (877,))"
            ]
          },
          "metadata": {
            "tags": []
          },
          "execution_count": 26
        }
      ]
    },
    {
      "cell_type": "markdown",
      "metadata": {
        "id": "ElXZgPssVPp-",
        "colab_type": "text"
      },
      "source": [
        "BUILD THE MODEL"
      ]
    },
    {
      "cell_type": "code",
      "metadata": {
        "id": "PwYKVqHMVRLW",
        "colab_type": "code",
        "colab": {}
      },
      "source": [
        "from math import sqrt \n",
        "from sklearn.metrics import mean_squared_error"
      ],
      "execution_count": null,
      "outputs": []
    },
    {
      "cell_type": "code",
      "metadata": {
        "id": "UEMjA6J9w4MS",
        "colab_type": "code",
        "colab": {}
      },
      "source": [
        "Xtest =  test_df"
      ],
      "execution_count": null,
      "outputs": []
    },
    {
      "cell_type": "code",
      "metadata": {
        "id": "-qvEeC1mjbf3",
        "colab_type": "code",
        "colab": {
          "base_uri": "https://localhost:8080/",
          "height": 272
        },
        "outputId": "b99fcb1b-c0b2-45b9-f60a-2dce2c620e7d"
      },
      "source": [
        "from sklearn.model_selection import KFold, RepeatedKFold\n",
        "from lightgbm import LGBMRegressor\n",
        "\n",
        "errlgb = []\n",
        "y_pred_totlgb = []\n",
        "fold = KFold(n_splits=15, shuffle=True, random_state=42)\n",
        "\n",
        "for train_index, test_index in fold.split(X):\n",
        "    X_train, X_test = X.loc[train_index], X.loc[test_index]\n",
        "    y_train, y_test = y[train_index], y[test_index]\n",
        "\n",
        "    param = {\n",
        "         'objective': 'regression',\n",
        "         'boosting': 'gbdt',  \n",
        "         'metric': 'l2_root',\n",
        "         'learning_rate': 0.03, \n",
        "         'num_iterations': 1000,\n",
        "         'num_leaves': 35,\n",
        "         'max_depth': 6,\n",
        "         'min_data_in_leaf': 15,\n",
        "         'bagging_fraction': 1,\n",
        "         'bagging_freq': 1,\n",
        "         'colsample_bytree':1,\n",
        "         'reg_alpha' : 0.5,\n",
        "         'min_child_samples' : 5,\n",
        "         'min_split_gain':0.2\n",
        "         }\n",
        "\n",
        "\n",
        "    lgbm = LGBMRegressor(**param)\n",
        "    lgbm.fit(X_train, y_train,\n",
        "             eval_set=[(X_test, y_test)],\n",
        "             verbose=0,\n",
        "             early_stopping_rounds=100\n",
        "             )\n",
        "\n",
        "    y_pred_lgbm = lgbm.predict(X_test)\n",
        "    print('RMSE:', sqrt(mean_squared_error(y_test, y_pred_lgbm)))\n",
        "\n",
        "    errlgb.append(sqrt(mean_squared_error(y_test, y_pred_lgbm)))\n",
        "    p = lgbm.predict(Xtest)\n",
        "    y_pred_totlgb.append(p)"
      ],
      "execution_count": null,
      "outputs": [
        {
          "output_type": "stream",
          "text": [
            "RMSE: 1.3140447050750848\n",
            "RMSE: 1.8170636478841835\n",
            "RMSE: 1.354613644653867\n",
            "RMSE: 1.713917257306853\n",
            "RMSE: 1.0938683281126713\n",
            "RMSE: 2.1528127938896877\n",
            "RMSE: 1.5598677518147912\n",
            "RMSE: 1.4180233633470538\n",
            "RMSE: 1.291393354479917\n",
            "RMSE: 1.810491380583261\n",
            "RMSE: 1.458694940382956\n",
            "RMSE: 2.3167917309814214\n",
            "RMSE: 1.617547400257916\n",
            "RMSE: 1.7943015708891168\n",
            "RMSE: 1.4316895422348492\n"
          ],
          "name": "stdout"
        }
      ]
    },
    {
      "cell_type": "code",
      "metadata": {
        "id": "1xZHJ3VixXr2",
        "colab_type": "code",
        "colab": {
          "base_uri": "https://localhost:8080/",
          "height": 34
        },
        "outputId": "76a6e171-1f78-4a52-f72c-081da12949c3"
      },
      "source": [
        "np.mean(errlgb,0)"
      ],
      "execution_count": null,
      "outputs": [
        {
          "output_type": "execute_result",
          "data": {
            "text/plain": [
              "1.609674760792909"
            ]
          },
          "metadata": {
            "tags": []
          },
          "execution_count": 35
        }
      ]
    },
    {
      "cell_type": "code",
      "metadata": {
        "id": "3cpMr86jx0wF",
        "colab_type": "code",
        "colab": {
          "base_uri": "https://localhost:8080/",
          "height": 527
        },
        "outputId": "3d2a4731-c50f-4fce-accc-abbedfebb8a7"
      },
      "source": [
        "from sklearn.model_selection import KFold, RepeatedKFold\n",
        "from xgboost import XGBRegressor\n",
        "\n",
        "errxgb = []\n",
        "y_pred_toxgb = []\n",
        "fold = KFold(n_splits=15, shuffle=True, random_state=42)\n",
        "\n",
        "for train_index, test_index in fold.split(X):\n",
        "    X_train, X_test = X.loc[train_index], X.loc[test_index]\n",
        "    y_train, y_test = y[train_index], y[test_index]\n",
        "\n",
        "    xgb_model = XGBRegressor(n_estimators=3000,learning_rate=0.05,random_state=1994,max_depth=7,reg_alpha=0.00006,colsample_bytree=0.8,max_delta_step=0.8,colsample_bylevel = 0.8 , max_bin = 100,colsample_bynode= 0.5)\n",
        "    xgb_model.fit(X_train, y_train,\n",
        "             eval_set=[(X_test, y_test)],\n",
        "             verbose=0,\n",
        "             early_stopping_rounds=100\n",
        "             )\n",
        "\n",
        "    y_pred_xgb = xgb_model.predict(X_test)\n",
        "    print('RMSE:', sqrt(mean_squared_error(y_test, y_pred_xgb)))\n",
        "\n",
        "    errxgb.append(sqrt(mean_squared_error(y_test, y_pred_xgb)))\n",
        "    p = xgb_model.predict(Xtest)\n",
        "    y_pred_toxgb.append(p)"
      ],
      "execution_count": null,
      "outputs": [
        {
          "output_type": "stream",
          "text": [
            "[12:23:11] WARNING: /workspace/src/objective/regression_obj.cu:152: reg:linear is now deprecated in favor of reg:squarederror.\n",
            "RMSE: 1.3416877472707687\n",
            "[12:23:18] WARNING: /workspace/src/objective/regression_obj.cu:152: reg:linear is now deprecated in favor of reg:squarederror.\n",
            "RMSE: 1.8416378479980287\n",
            "[12:23:24] WARNING: /workspace/src/objective/regression_obj.cu:152: reg:linear is now deprecated in favor of reg:squarederror.\n",
            "RMSE: 1.326683221841166\n",
            "[12:23:31] WARNING: /workspace/src/objective/regression_obj.cu:152: reg:linear is now deprecated in favor of reg:squarederror.\n",
            "RMSE: 1.7146322451078946\n",
            "[12:23:38] WARNING: /workspace/src/objective/regression_obj.cu:152: reg:linear is now deprecated in favor of reg:squarederror.\n",
            "RMSE: 1.1096887450373745\n",
            "[12:23:42] WARNING: /workspace/src/objective/regression_obj.cu:152: reg:linear is now deprecated in favor of reg:squarederror.\n",
            "RMSE: 1.8505453503488252\n",
            "[12:23:59] WARNING: /workspace/src/objective/regression_obj.cu:152: reg:linear is now deprecated in favor of reg:squarederror.\n",
            "RMSE: 1.532533184641652\n",
            "[12:24:07] WARNING: /workspace/src/objective/regression_obj.cu:152: reg:linear is now deprecated in favor of reg:squarederror.\n",
            "RMSE: 1.3511862558988466\n",
            "[12:24:13] WARNING: /workspace/src/objective/regression_obj.cu:152: reg:linear is now deprecated in favor of reg:squarederror.\n",
            "RMSE: 1.2583715726618276\n",
            "[12:24:17] WARNING: /workspace/src/objective/regression_obj.cu:152: reg:linear is now deprecated in favor of reg:squarederror.\n",
            "RMSE: 1.9369340351086728\n",
            "[12:24:29] WARNING: /workspace/src/objective/regression_obj.cu:152: reg:linear is now deprecated in favor of reg:squarederror.\n",
            "RMSE: 1.432616520262337\n",
            "[12:24:38] WARNING: /workspace/src/objective/regression_obj.cu:152: reg:linear is now deprecated in favor of reg:squarederror.\n",
            "RMSE: 2.27201559577828\n",
            "[12:24:58] WARNING: /workspace/src/objective/regression_obj.cu:152: reg:linear is now deprecated in favor of reg:squarederror.\n",
            "RMSE: 1.4488346769415652\n",
            "[12:25:06] WARNING: /workspace/src/objective/regression_obj.cu:152: reg:linear is now deprecated in favor of reg:squarederror.\n",
            "RMSE: 1.896441380552586\n",
            "[12:25:24] WARNING: /workspace/src/objective/regression_obj.cu:152: reg:linear is now deprecated in favor of reg:squarederror.\n",
            "RMSE: 1.3706834909132484\n"
          ],
          "name": "stdout"
        }
      ]
    },
    {
      "cell_type": "code",
      "metadata": {
        "id": "dOhT1C1NyoyS",
        "colab_type": "code",
        "colab": {
          "base_uri": "https://localhost:8080/",
          "height": 34
        },
        "outputId": "9b51578f-1c8a-4a23-dee7-bb4998e708b7"
      },
      "source": [
        "np.mean(errxgb,0)"
      ],
      "execution_count": null,
      "outputs": [
        {
          "output_type": "execute_result",
          "data": {
            "text/plain": [
              "1.5789661246908715"
            ]
          },
          "metadata": {
            "tags": []
          },
          "execution_count": 37
        }
      ]
    },
    {
      "cell_type": "code",
      "metadata": {
        "id": "NI3NJamK5D_s",
        "colab_type": "code",
        "colab": {}
      },
      "source": [
        "xgb_final = np.mean(y_pred_toxgb,0)"
      ],
      "execution_count": null,
      "outputs": []
    },
    {
      "cell_type": "code",
      "metadata": {
        "id": "0ozuPhtd5EJ3",
        "colab_type": "code",
        "colab": {}
      },
      "source": [
        "lgbm_final = np.mean(y_pred_totlgb,0)"
      ],
      "execution_count": null,
      "outputs": []
    },
    {
      "cell_type": "code",
      "metadata": {
        "id": "Akk1oFpO89NO",
        "colab_type": "code",
        "colab": {}
      },
      "source": [
        "y_pred_final2 = xgb_final*0.30 + lgbm_final*0.70"
      ],
      "execution_count": null,
      "outputs": []
    },
    {
      "cell_type": "code",
      "metadata": {
        "id": "owsbIUdz0YWb",
        "colab_type": "code",
        "colab": {}
      },
      "source": [
        "e_dataframe = pd.DataFrame(y_pred_final2) "
      ],
      "execution_count": null,
      "outputs": []
    },
    {
      "cell_type": "code",
      "metadata": {
        "id": "4Y2Wke8g0iom",
        "colab_type": "code",
        "colab": {
          "base_uri": "https://localhost:8080/",
          "height": 34
        },
        "outputId": "64380429-2e13-41bb-f8c8-f2b62d8e184a"
      },
      "source": [
        "e_dataframe.shape"
      ],
      "execution_count": null,
      "outputs": [
        {
          "output_type": "execute_result",
          "data": {
            "text/plain": [
              "(1503, 1)"
            ]
          },
          "metadata": {
            "tags": []
          },
          "execution_count": 62
        }
      ]
    },
    {
      "cell_type": "code",
      "metadata": {
        "id": "YjldblSG0i2G",
        "colab_type": "code",
        "colab": {}
      },
      "source": [
        "e_dataframe.to_excel('submission_games_finalsg4.xlsx', index=False)"
      ],
      "execution_count": null,
      "outputs": []
    },
    {
      "cell_type": "code",
      "metadata": {
        "id": "G6_pFnAo0iy3",
        "colab_type": "code",
        "colab": {}
      },
      "source": [
        "from google.colab import files"
      ],
      "execution_count": null,
      "outputs": []
    },
    {
      "cell_type": "code",
      "metadata": {
        "id": "xrxRFXzD0rPq",
        "colab_type": "code",
        "colab": {
          "base_uri": "https://localhost:8080/",
          "height": 17
        },
        "outputId": "13d69b93-fe18-422a-e7cc-f37f7611afc4"
      },
      "source": [
        "files.download('submission_games_finalsg4.xlsx')"
      ],
      "execution_count": null,
      "outputs": [
        {
          "output_type": "display_data",
          "data": {
            "application/javascript": [
              "\n",
              "    async function download(id, filename, size) {\n",
              "      if (!google.colab.kernel.accessAllowed) {\n",
              "        return;\n",
              "      }\n",
              "      const div = document.createElement('div');\n",
              "      const label = document.createElement('label');\n",
              "      label.textContent = `Downloading \"${filename}\": `;\n",
              "      div.appendChild(label);\n",
              "      const progress = document.createElement('progress');\n",
              "      progress.max = size;\n",
              "      div.appendChild(progress);\n",
              "      document.body.appendChild(div);\n",
              "\n",
              "      const buffers = [];\n",
              "      let downloaded = 0;\n",
              "\n",
              "      const channel = await google.colab.kernel.comms.open(id);\n",
              "      // Send a message to notify the kernel that we're ready.\n",
              "      channel.send({})\n",
              "\n",
              "      for await (const message of channel.messages) {\n",
              "        // Send a message to notify the kernel that we're ready.\n",
              "        channel.send({})\n",
              "        if (message.buffers) {\n",
              "          for (const buffer of message.buffers) {\n",
              "            buffers.push(buffer);\n",
              "            downloaded += buffer.byteLength;\n",
              "            progress.value = downloaded;\n",
              "          }\n",
              "        }\n",
              "      }\n",
              "      const blob = new Blob(buffers, {type: 'application/binary'});\n",
              "      const a = document.createElement('a');\n",
              "      a.href = window.URL.createObjectURL(blob);\n",
              "      a.download = filename;\n",
              "      div.appendChild(a);\n",
              "      a.click();\n",
              "      div.remove();\n",
              "    }\n",
              "  "
            ],
            "text/plain": [
              "<IPython.core.display.Javascript object>"
            ]
          },
          "metadata": {
            "tags": []
          }
        },
        {
          "output_type": "display_data",
          "data": {
            "application/javascript": [
              "download(\"download_b3a9d995-33a6-499e-8e55-260789c5c402\", \"submission_games_finalsg4.xlsx\", 28429)"
            ],
            "text/plain": [
              "<IPython.core.display.Javascript object>"
            ]
          },
          "metadata": {
            "tags": []
          }
        }
      ]
    }
  ]
}